{
 "cells": [
  {
   "cell_type": "code",
   "execution_count": null,
   "id": "d3869c7a",
   "metadata": {},
   "outputs": [],
   "source": [
    "# excel 파일 csv 파일로 변경(1~16번째 행(빨간글, 데이터만 남기고) 삭제 후 csv 로 저장)\n",
    "# 결과 파일 x,y 로 포인트 만들면 됩니당\n",
    "\n",
    "import requests;\n",
    "import pandas as pd;\n",
    "import json\n",
    "\n",
    "def geocoding(df):\n",
    "    \n",
    "    for index, row in df.iterrows():\n",
    "        address = row['시군구'] + row['번지']\n",
    "        \n",
    "        #print(address)\n",
    "        url = 'https://dapi.kakao.com/v2/local/search/address.json?query='+address\n",
    "        headers = {\"Authorization\": \"KakaoAK cc6bbb92fed2152d8a2ad38448b2b281\"} # 카카오 api 사이트에서 rest api 키 넣으시면 됩니당 예) \"KakaoAK 카카오 api키\"\n",
    "        res = json.loads(str(requests.get(url,headers=headers).text))\n",
    "        # print(res)\n",
    "    \n",
    "        Match = res['documents'][0]['address']\n",
    "        \n",
    "        x = float(Match['x'])\n",
    "        y = float(Match['y'])\n",
    "        \n",
    "        df.loc[index,'x'] = x\n",
    "        df.loc[index,'y'] = y\n",
    "        \n",
    "        #print(\"경도 : \", x ,\", 위도 : \", y)\n",
    "        \n",
    "    \n",
    "    df.to_csv('C:/Users/facci/Desktop/결과.csv', index=False) # 결과 파일 url 및 이름\n",
    "    print(\"완료\")\n",
    "    return x, y\n",
    "\n",
    "df = pd.read_csv('C:/Users/facci/Desktop/Dukkeobi/data/실거래가.csv'); # 파일명\n",
    "geocoding(df)"
   ]
  },
  {
   "cell_type": "code",
   "execution_count": null,
   "id": "3e16a12e",
   "metadata": {},
   "outputs": [],
   "source": []
  }
 ],
 "metadata": {
  "kernelspec": {
   "display_name": "Python 3 (ipykernel)",
   "language": "python",
   "name": "python3"
  },
  "language_info": {
   "codemirror_mode": {
    "name": "ipython",
    "version": 3
   },
   "file_extension": ".py",
   "mimetype": "text/x-python",
   "name": "python",
   "nbconvert_exporter": "python",
   "pygments_lexer": "ipython3",
   "version": "3.10.10"
  }
 },
 "nbformat": 4,
 "nbformat_minor": 5
}
