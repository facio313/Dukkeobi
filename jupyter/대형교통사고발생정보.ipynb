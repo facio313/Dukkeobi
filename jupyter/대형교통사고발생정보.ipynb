{
 "cells": [
  {
   "cell_type": "code",
   "execution_count": 14,
   "id": "a827075a",
   "metadata": {
    "scrolled": false
   },
   "outputs": [],
   "source": [
    "import os\n",
    "from bs4 import BeautifulSoup\n",
    "from urllib.request import urlopen\n",
    "import pandas as pd\n",
    "from pyproj import transform, Transformer"
   ]
  },
  {
   "cell_type": "code",
   "execution_count": 15,
   "id": "85299f02",
   "metadata": {
    "scrolled": true
   },
   "outputs": [],
   "source": [
    "output_path = \"C:/Users/facci/Desktop\"\n",
    "output_file = \"대형교통사고.csv\"\n",
    "if not os.path.exists(output_path):\n",
    "    os.makedirs(output_path)\n",
    "    \n",
    "df = pd.DataFrame(columns=['SAFETY_SORT', 'SAFETY_GUBUN', 'SAFETY_CODE', 'SAFETY_NM', 'SAFETY_ADDR', 'SAFETY_PNU'\n",
    "                           , 'SAFETY_LONG', 'SAFETY_LAT', 'SAFETY_X', 'SAFETY_Y'])\n",
    "\n",
    "i=0"
   ]
  },
  {
   "cell_type": "code",
   "execution_count": 16,
   "id": "e77b0291",
   "metadata": {
    "scrolled": false
   },
   "outputs": [
    {
     "name": "stdout",
     "output_type": "stream",
     "text": [
      "http://www.safemap.go.kr/openApiService/data/getTfcacdsttusBigData.do?serviceKey=LPGGTEYH-LPGG-LPGG-LPGG-LPGGTEYH1M&numOfRows=108567&pageNo=1&dataType=XML\n"
     ]
    }
   ],
   "source": [
    "serviceKey = '?serviceKey=LPGGTEYH-LPGG-LPGG-LPGG-LPGGTEYH1M'\n",
    "numOfRows = '&numOfRows=108567'\n",
    "pageNo = '&pageNo=1'\n",
    "dataType = '&dataType=XML'\n",
    "\n",
    "url = 'http://www.safemap.go.kr/openApiService/data/getTfcacdsttusBigData.do' + serviceKey + numOfRows + pageNo + dataType\n",
    "print(url)"
   ]
  },
  {
   "cell_type": "code",
   "execution_count": 21,
   "id": "a8b687fe",
   "metadata": {
    "scrolled": true
   },
   "outputs": [
    {
     "name": "stdout",
     "output_type": "stream",
     "text": [
      "11140\n",
      "11260\n",
      "11320\n",
      "11380\n",
      "11410\n",
      "11410\n",
      "11410\n",
      "11545\n",
      "11560\n",
      "11590\n",
      "11650\n",
      "11680\n",
      "11710\n",
      "26380\n",
      "26530\n",
      "28110\n",
      "29170\n",
      "30200\n",
      "31200\n",
      "31710\n",
      "41220\n",
      "41135\n",
      "41171\n",
      "41220\n",
      "41220\n",
      "41220\n",
      "41461\n",
      "41463\n",
      "41463\n",
      "41500\n",
      "41370\n",
      "41570\n",
      "41463\n",
      "41463\n",
      "41463\n",
      "41650\n",
      "41650\n",
      "41550\n",
      "41570\n",
      "42130\n",
      "42800\n",
      "41610\n",
      "41610\n",
      "43113\n",
      "43113\n",
      "43114\n",
      "41800\n",
      "44133\n",
      "44133\n",
      "42230\n",
      "42230\n",
      "42830\n",
      "43111\n",
      "43111\n",
      "44710\n",
      "43130\n",
      "43130\n",
      "45130\n",
      "43750\n",
      "43770\n",
      "45140\n",
      "45190\n",
      "44131\n",
      "44133\n",
      "46110\n",
      "44150\n",
      "44200\n",
      "46150\n",
      "44230\n",
      "46910\n",
      "45130\n",
      "45180\n",
      "45730\n",
      "45800\n",
      "47230\n",
      "46150\n",
      "46770\n",
      "48121\n",
      "46830\n",
      "46830\n",
      "46900\n",
      "48880\n",
      "47250\n",
      "50130\n",
      "47720\n",
      "47940\n",
      "48121\n"
     ]
    }
   ],
   "source": [
    "data = urlopen(url).read()\n",
    "soup = BeautifulSoup(data, \"html.parser\")\n",
    "items = soup.find(\"items\")\n",
    "\n",
    "for item in items.findAll(\"item\"):\n",
    "    print(item.sgg_cd.text)\n",
    "    if item.sgg_cd.text == '11440' :\n",
    "        df.loc[i] = [\"accident\", item.lclas.text, item.sclas.text, item.violt_cn.text, item.sgg_cd.text, item.emd_cd.text\n",
    "                        , '', '', item.x.text, item.y.text]\n",
    "    i=i+1\n",
    "        \n",
    "df.to_csv(os.path.join(output_path, output_file), encoding='utf-8-sig', index=False)"
   ]
  },
  {
   "cell_type": "code",
   "execution_count": null,
   "id": "55545ac9",
   "metadata": {},
   "outputs": [],
   "source": []
  }
 ],
 "metadata": {
  "kernelspec": {
   "display_name": "Python 3 (ipykernel)",
   "language": "python",
   "name": "python3"
  },
  "language_info": {
   "codemirror_mode": {
    "name": "ipython",
    "version": 3
   },
   "file_extension": ".py",
   "mimetype": "text/x-python",
   "name": "python",
   "nbconvert_exporter": "python",
   "pygments_lexer": "ipython3",
   "version": "3.10.10"
  }
 },
 "nbformat": 4,
 "nbformat_minor": 5
}
