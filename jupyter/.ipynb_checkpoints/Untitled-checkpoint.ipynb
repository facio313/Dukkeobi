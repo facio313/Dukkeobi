{
 "cells": [
  {
   "cell_type": "code",
   "execution_count": 7,
   "id": "723e465c",
   "metadata": {
    "scrolled": true
   },
   "outputs": [
    {
     "name": "stdout",
     "output_type": "stream",
     "text": [
      "완료\n"
     ]
    },
    {
     "data": {
      "text/plain": [
       "(126.954413789817, 37.54984452796)"
      ]
     },
     "execution_count": 7,
     "metadata": {},
     "output_type": "execute_result"
    }
   ],
   "source": [
    "# excel 파일 csv 파일로 변경(1~16번째 행(빨간글, 데이터만 남기고) 삭제 후 csv 로 저장)\n",
    "# 결과 파일 x,y 로 포인트 만들면 됩니당\n",
    "\n",
    "import requests;\n",
    "import pandas as pd;\n",
    "import json\n",
    "\n",
    "def geocoding(df):\n",
    "    x = 0\n",
    "    y = 0\n",
    "    \n",
    "    for index, row in df.iterrows():\n",
    "        address = row['시군구'] + row['번지']\n",
    "        \n",
    "        #print(address)\n",
    "        url = 'https://dapi.kakao.com/v2/local/search/address.json?query='+address\n",
    "        headers = {\"Authorization\": \"KakaoAK b36ca40c906ab4b4f85b56d034a9b7e0\"} # 카카오 api 사이트에서 rest api 키 넣으시면 됩니당 예) \"KakaoAK 카카오 api키\"\n",
    "        res = json.loads(str(requests.get(url,headers=headers).text))\n",
    "        # print(res)\n",
    "    \n",
    "        if len(res) == 0 or len(res['documents']) == 0 :\n",
    "            continue\n",
    "        Match = res['documents'][0]['address']\n",
    "        \n",
    "        x = float(Match['x'])\n",
    "        y = float(Match['y'])\n",
    "        \n",
    "        df.loc[index,'x'] = x\n",
    "        df.loc[index,'y'] = y\n",
    "        \n",
    "        #print(\"경도 : \", x ,\", 위도 : \", y)\n",
    "        \n",
    "    \n",
    "    df.to_csv('C:/Users/facci/Desktop/결과.csv', index=False) # 결과 파일 url 및 이름\n",
    "    print(\"완료\")\n",
    "    return x, y\n",
    "\n",
    "df = pd.read_csv('C:/Users/facci/Desktop/Dukkeobi/data/실거래가.csv'); # 파일명\n",
    "geocoding(df)"
   ]
  },
  {
   "cell_type": "code",
   "execution_count": null,
   "id": "f252970b",
   "metadata": {},
   "outputs": [],
   "source": []
  }
 ],
 "metadata": {
  "kernelspec": {
   "display_name": "Python 3 (ipykernel)",
   "language": "python",
   "name": "python3"
  },
  "language_info": {
   "codemirror_mode": {
    "name": "ipython",
    "version": 3
   },
   "file_extension": ".py",
   "mimetype": "text/x-python",
   "name": "python",
   "nbconvert_exporter": "python",
   "pygments_lexer": "ipython3",
   "version": "3.10.10"
  }
 },
 "nbformat": 4,
 "nbformat_minor": 5
}
