{
 "cells": [
  {
   "cell_type": "code",
   "execution_count": 8,
   "id": "a827075a",
   "metadata": {
    "scrolled": false
   },
   "outputs": [],
   "source": [
    "import os\n",
    "from bs4 import BeautifulSoup\n",
    "from urllib.request import urlopen\n",
    "import pandas as pd"
   ]
  },
  {
   "cell_type": "code",
   "execution_count": 9,
   "id": "85299f02",
   "metadata": {},
   "outputs": [],
   "source": [
    "output_path = \"C:/Users/facci/Desktop\"\n",
    "output_file = \"편의점.csv\"\n",
    "if not os.path.exists(output_path):\n",
    "    os.makedirs(output_path)\n",
    "    \n",
    "df = pd.DataFrame(columns=['SAFETY_NO', 'SAFETY_CODE', 'SAFETY_NM', 'SAFETY_ADDR', 'SAFETY_EMD'\n",
    "                           , 'SAFETY_LONG', 'SAFETY_LAT', 'SAFETY_X', 'SAFETY_Y', 'SAFETY_GEOM'])\n",
    "\n",
    "i=0"
   ]
  },
  {
   "cell_type": "code",
   "execution_count": 10,
   "id": "e77b0291",
   "metadata": {},
   "outputs": [
    {
     "name": "stdout",
     "output_type": "stream",
     "text": [
      "http://www.safemap.go.kr/openApiService/data/getConvenienceStoreData.do?serviceKey=LPGGTEYH-LPGG-LPGG-LPGG-LPGGTEYH1M&numOfRows=108567&pageNo=1&dataType=XML\n"
     ]
    }
   ],
   "source": [
    "serviceKey = '?serviceKey=LPGGTEYH-LPGG-LPGG-LPGG-LPGGTEYH1M'\n",
    "numOfRows = '&numOfRows=108567'\n",
    "pageNo = '&pageNo=1'\n",
    "dataType = '&dataType=XML'\n",
    "\n",
    "url = 'http://www.safemap.go.kr/openApiService/data/getConvenienceStoreData.do' + serviceKey + numOfRows + pageNo + dataType\n",
    "print(url)"
   ]
  },
  {
   "cell_type": "code",
   "execution_count": 11,
   "id": "a8b687fe",
   "metadata": {},
   "outputs": [
    {
     "name": "stderr",
     "output_type": "stream",
     "text": [
      "C:\\Users\\facci\\anaconda3\\lib\\site-packages\\bs4\\builder\\__init__.py:545: XMLParsedAsHTMLWarning: It looks like you're parsing an XML document using an HTML parser. If this really is an HTML document (maybe it's XHTML?), you can ignore or filter this warning. If it's XML, you should know that using an XML parser will be more reliable. To parse this document as XML, make sure you have the lxml package installed, and pass the keyword argument `features=\"xml\"` into the BeautifulSoup constructor.\n",
      "  warnings.warn(\n"
     ]
    }
   ],
   "source": [
    "data = urlopen(url).read()\n",
    "soup = BeautifulSoup(data, \"html.parser\")\n",
    "items = soup.find(\"items\")\n",
    "\n",
    "\n",
    "for item in items.findAll(\"item\"):\n",
    "    if item.sgg_cd.text == '11440' :\n",
    "        df.loc[i] = ['SFT' + item.objt_id.text.zfill(7), item.fclty_ty.text + '(' + item.fclty_cd.text +')', item.fclty_nm.text, item.rn_adres.text, item.adres.text\n",
    "                        , '', '', item.x.text, item.y.text, '']\n",
    "    i=i+1\n",
    "        \n",
    "df.to_csv(os.path.join(output_path, output_file), encoding='utf-8-sig', index=False)"
   ]
  },
  {
   "cell_type": "code",
   "execution_count": null,
   "id": "55545ac9",
   "metadata": {},
   "outputs": [],
   "source": []
  }
 ],
 "metadata": {
  "kernelspec": {
   "display_name": "Python 3 (ipykernel)",
   "language": "python",
   "name": "python3"
  },
  "language_info": {
   "codemirror_mode": {
    "name": "ipython",
    "version": 3
   },
   "file_extension": ".py",
   "mimetype": "text/x-python",
   "name": "python",
   "nbconvert_exporter": "python",
   "pygments_lexer": "ipython3",
   "version": "3.10.9"
  }
 },
 "nbformat": 4,
 "nbformat_minor": 5
}
