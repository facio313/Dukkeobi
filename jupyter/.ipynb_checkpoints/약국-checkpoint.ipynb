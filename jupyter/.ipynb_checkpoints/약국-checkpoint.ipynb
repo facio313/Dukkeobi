{
 "cells": [
  {
   "cell_type": "code",
   "execution_count": 21,
   "id": "a827075a",
   "metadata": {
    "scrolled": false
   },
   "outputs": [],
   "source": [
    "import os\n",
    "from bs4 import BeautifulSoup\n",
    "from urllib.request import urlopen\n",
    "import pandas as pd\n",
    "from pyproj import transform, Transformer"
   ]
  },
  {
   "cell_type": "code",
   "execution_count": 22,
   "id": "85299f02",
   "metadata": {
    "scrolled": true
   },
   "outputs": [],
   "source": [
    "output_path = \"C:/Users/facci/Desktop\"\n",
    "output_file = \"약국.csv\"\n",
    "if not os.path.exists(output_path):\n",
    "    os.makedirs(output_path)\n",
    "    \n",
    "df = pd.DataFrame(columns=['SAFETY_NO', 'SAFETY_CODE', 'SAFETY_NM', 'SAFETY_ADDR', 'SAFETY_EMD'\n",
    "                           , 'SAFETY_LONG', 'SAFETY_LAT', 'SAFETY_X', 'SAFETY_Y', 'SAFETY_GEOM'])\n",
    "\n",
    "i=0"
   ]
  },
  {
   "cell_type": "code",
   "execution_count": 23,
   "id": "e77b0291",
   "metadata": {
    "scrolled": true
   },
   "outputs": [
    {
     "name": "stdout",
     "output_type": "stream",
     "text": [
      "http://www.safemap.go.kr/openApiService/data/getPharmacyData.do?serviceKey=LPGGTEYH-LPGG-LPGG-LPGG-LPGGTEYH1M&numOfRows=108567&pageNo=1&dataType=XML\n"
     ]
    }
   ],
   "source": [
    "serviceKey = '?serviceKey=LPGGTEYH-LPGG-LPGG-LPGG-LPGGTEYH1M'\n",
    "numOfRows = '&numOfRows=108567'\n",
    "pageNo = '&pageNo=1'\n",
    "dataType = '&dataType=XML'\n",
    "\n",
    "url = 'http://www.safemap.go.kr/openApiService/data/getPharmacyData.do' + serviceKey + numOfRows + pageNo + dataType\n",
    "print(url)"
   ]
  },
  {
   "cell_type": "code",
   "execution_count": 24,
   "id": "a8b687fe",
   "metadata": {
    "scrolled": true
   },
   "outputs": [
    {
     "name": "stderr",
     "output_type": "stream",
     "text": [
      "C:\\Users\\facci\\anaconda3\\lib\\site-packages\\bs4\\builder\\__init__.py:545: XMLParsedAsHTMLWarning: It looks like you're parsing an XML document using an HTML parser. If this really is an HTML document (maybe it's XHTML?), you can ignore or filter this warning. If it's XML, you should know that using an XML parser will be more reliable. To parse this document as XML, make sure you have the lxml package installed, and pass the keyword argument `features=\"xml\"` into the BeautifulSoup constructor.\n",
      "  warnings.warn(\n"
     ]
    },
    {
     "ename": "AttributeError",
     "evalue": "'NoneType' object has no attribute 'text'",
     "output_type": "error",
     "traceback": [
      "\u001b[1;31m---------------------------------------------------------------------------\u001b[0m",
      "\u001b[1;31mAttributeError\u001b[0m                            Traceback (most recent call last)",
      "Cell \u001b[1;32mIn[24], line 11\u001b[0m\n\u001b[0;32m      7\u001b[0m \u001b[38;5;28;01mfor\u001b[39;00m item \u001b[38;5;129;01min\u001b[39;00m items\u001b[38;5;241m.\u001b[39mfindAll(\u001b[38;5;124m\"\u001b[39m\u001b[38;5;124mitem\u001b[39m\u001b[38;5;124m\"\u001b[39m):\n\u001b[0;32m      8\u001b[0m     \u001b[38;5;28;01mif\u001b[39;00m \u001b[38;5;124m'\u001b[39m\u001b[38;5;124m마포구\u001b[39m\u001b[38;5;124m'\u001b[39m \u001b[38;5;129;01min\u001b[39;00m item\u001b[38;5;241m.\u001b[39mdutyaddr\u001b[38;5;241m.\u001b[39mtext :\n\u001b[0;32m      9\u001b[0m \u001b[38;5;66;03m#       x, y = transformer.transform(item.long.text, tem.lat.text)\u001b[39;00m\n\u001b[0;32m     10\u001b[0m         df\u001b[38;5;241m.\u001b[39mloc[i] \u001b[38;5;241m=\u001b[39m [\u001b[38;5;124m'\u001b[39m\u001b[38;5;124mSFT\u001b[39m\u001b[38;5;124m'\u001b[39m \u001b[38;5;241m+\u001b[39m item\u001b[38;5;241m.\u001b[39mnum\u001b[38;5;241m.\u001b[39mtext\u001b[38;5;241m.\u001b[39mzfill(\u001b[38;5;241m7\u001b[39m), \u001b[38;5;124m'\u001b[39m\u001b[38;5;124m약국\u001b[39m\u001b[38;5;124m'\u001b[39m, item\u001b[38;5;241m.\u001b[39mdutyname\u001b[38;5;241m.\u001b[39mtext, item\u001b[38;5;241m.\u001b[39mdutyaddr\u001b[38;5;241m.\u001b[39mtext, \u001b[38;5;124m'\u001b[39m\u001b[38;5;124m'\u001b[39m\n\u001b[1;32m---> 11\u001b[0m                         , item\u001b[38;5;241m.\u001b[39mlon\u001b[38;5;241m.\u001b[39mtext, \u001b[43mitem\u001b[49m\u001b[38;5;241;43m.\u001b[39;49m\u001b[43mlan\u001b[49m\u001b[38;5;241;43m.\u001b[39;49m\u001b[43mtext\u001b[49m, item\u001b[38;5;241m.\u001b[39mx\u001b[38;5;241m.\u001b[39mtext, item\u001b[38;5;241m.\u001b[39my\u001b[38;5;241m.\u001b[39mtext, \u001b[38;5;124m'\u001b[39m\u001b[38;5;124m'\u001b[39m]\n\u001b[0;32m     12\u001b[0m     i\u001b[38;5;241m=\u001b[39mi\u001b[38;5;241m+\u001b[39m\u001b[38;5;241m1\u001b[39m\n\u001b[0;32m     14\u001b[0m df\u001b[38;5;241m.\u001b[39mto_csv(os\u001b[38;5;241m.\u001b[39mpath\u001b[38;5;241m.\u001b[39mjoin(output_path, output_file), encoding\u001b[38;5;241m=\u001b[39m\u001b[38;5;124m'\u001b[39m\u001b[38;5;124mutf-8-sig\u001b[39m\u001b[38;5;124m'\u001b[39m, index\u001b[38;5;241m=\u001b[39m\u001b[38;5;28;01mFalse\u001b[39;00m)\n",
      "\u001b[1;31mAttributeError\u001b[0m: 'NoneType' object has no attribute 'text'"
     ]
    }
   ],
   "source": [
    "data = urlopen(url).read()\n",
    "soup = BeautifulSoup(data, \"html.parser\")\n",
    "items = soup.find(\"items\")\n",
    "\n",
    "# transformer = Transformer.from_crs(\"EPSG:4326\", \"EPSG:5181\")\n",
    " \n",
    "for item in items.findAll(\"item\"):\n",
    "    if '마포구' in item.dutyaddr.text :\n",
    "#       x, y = transformer.transform(item.long.text, tem.lat.text)\n",
    "        df.loc[i] = ['SFT' + item.num.text.zfill(7), '약국', item.dutyname.text, item.dutyaddr.text, ''\n",
    "                        , item.lon.text, item.lat.text, item.x.text, item.y.text, '']\n",
    "    i=i+1\n",
    "        \n",
    "df.to_csv(os.path.join(output_path, output_file), encoding='utf-8-sig', index=False)"
   ]
  },
  {
   "cell_type": "code",
   "execution_count": null,
   "id": "55545ac9",
   "metadata": {},
   "outputs": [],
   "source": []
  }
 ],
 "metadata": {
  "kernelspec": {
   "display_name": "Python 3 (ipykernel)",
   "language": "python",
   "name": "python3"
  },
  "language_info": {
   "codemirror_mode": {
    "name": "ipython",
    "version": 3
   },
   "file_extension": ".py",
   "mimetype": "text/x-python",
   "name": "python",
   "nbconvert_exporter": "python",
   "pygments_lexer": "ipython3",
   "version": "3.10.10"
  }
 },
 "nbformat": 4,
 "nbformat_minor": 5
}
